{
  "nbformat": 4,
  "nbformat_minor": 0,
  "metadata": {
    "colab": {
      "name": "Data Visualisation with WhatsappData.ipynb",
      "provenance": [],
      "collapsed_sections": []
    },
    "kernelspec": {
      "name": "python3",
      "display_name": "Python 3"
    }
  },
  "cells": [
    {
      "cell_type": "code",
      "metadata": {
        "id": "nplqXQ_W1U9u",
        "colab_type": "code",
        "colab": {}
      },
      "source": [
        "import pandas as pd\n",
        "import numpy as np\n",
        "import re\n",
        "import dateparser\n",
        "from collections import Counter\n",
        "import matplotlib.pyplot as plt\n",
        "plt.style.use('ggplot')"
      ],
      "execution_count": null,
      "outputs": []
    },
    {
      "cell_type": "code",
      "metadata": {
        "id": "md4LK85q5a6r",
        "colab_type": "code",
        "colab": {}
      },
      "source": [
        "def read_file(file):\n",
        "    '''Reads Whatsapp text file into a list of strings''' \n",
        "    x = open(file,'r', encoding = 'utf-8') #Opens the text file into variable x but the variable cannot be explored yet\n",
        "    y = x.read() #By now it becomes a huge chunk of string that we need to separate line by line\n",
        "    content = y.splitlines() #The splitline method converts the chunk of string into a list of strings\n",
        "    return content"
      ],
      "execution_count": null,
      "outputs": []
    },
    {
      "cell_type": "code",
      "metadata": {
        "id": "ibUABbFR5p2U",
        "colab_type": "code",
        "colab": {}
      },
      "source": [
        "chat = read_file(\"WhatsApp Chat with Funsters.txt\")\n",
        "len(chat)"
      ],
      "execution_count": null,
      "outputs": []
    },
    {
      "cell_type": "code",
      "metadata": {
        "id": "xKtaAL7R20rN",
        "colab_type": "code",
        "colab": {}
      },
      "source": [
        "join = [line for line in chat if  \"joined using this\" in line]\n",
        "join"
      ],
      "execution_count": null,
      "outputs": []
    },
    {
      "cell_type": "code",
      "metadata": {
        "id": "M-NXHLOV2_T7",
        "colab_type": "code",
        "colab": {}
      },
      "source": [
        " #Remove new lines\n",
        "chat = [line.strip() for line in chat]\n",
        "print(\"length of chat is:\")\n",
        "print(len(chat))"
      ],
      "execution_count": null,
      "outputs": []
    },
    {
      "cell_type": "code",
      "metadata": {
        "id": "pvSl1eO93Y9S",
        "colab_type": "code",
        "colab": {}
      },
      "source": [
        "#Clean out the join notification lines\n",
        "clean_chat = [line for line in chat if not \"joined using this\" in line]\n",
        "clean_chat = [line for line in clean_chat if not \"added\" in line]\n",
        "print(len(clean_chat))"
      ],
      "execution_count": null,
      "outputs": []
    },
    {
      "cell_type": "code",
      "metadata": {
        "id": "GbxSZGOP3Er4",
        "colab_type": "code",
        "colab": {}
      },
      "source": [
        "#Further cleaning\n",
        "#Remove empty lines\n",
        "clean_chat = [line for line in clean_chat if len(line) > 1]\n",
        "print(\"length of clean_chat is:\")\n",
        "print(len(clean_chat))"
      ],
      "execution_count": null,
      "outputs": []
    },
    {
      "cell_type": "code",
      "metadata": {
        "id": "JO_rXfiL4jRb",
        "colab_type": "code",
        "colab": {}
      },
      "source": [
        "#Drop 'left-ers'\n",
        "left = [line for line in clean_chat if line.endswith(\"left\")]\n",
        "left"
      ],
      "execution_count": null,
      "outputs": []
    },
    {
      "cell_type": "code",
      "metadata": {
        "id": "8cXReQatD68_",
        "colab_type": "code",
        "colab": {}
      },
      "source": [
        "#Drop 'contacts attached'\n",
        "clean_chat = [line for line in clean_chat if not \"vcf\" in line]\n",
        "print(len(clean_chat))"
      ],
      "execution_count": null,
      "outputs": []
    },
    {
      "cell_type": "code",
      "metadata": {
        "id": "TGju_94c6xm4",
        "colab_type": "code",
        "colab": {}
      },
      "source": [
        "#Clean out the left notification lines\n",
        "clean_chat = [line for line in clean_chat if not line.endswith(\"left\")]\n",
        "print(len(clean_chat))"
      ],
      "execution_count": null,
      "outputs": []
    },
    {
      "cell_type": "code",
      "metadata": {
        "id": "jodxp6BK63Kg",
        "colab_type": "code",
        "colab": {}
      },
      "source": [
        "#Merge messages that belong together\n",
        "msgs = [] #message container\n",
        "pos = 0 #counter for position of msgs in the container\n",
        "\"\"\"\n",
        "Flow:\n",
        "For every line, see if it matches the expression which is starting with the format \"number(s)+slash\" eg \"12/\"\n",
        "If it does, it is a new line of conversion as they begin with dates, add it to msgs container\n",
        "Else, it is a continuation of the previous line, add it to the previous line and append to msgs, then pop previous line.\n",
        "\"\"\"\n",
        "for line in clean_chat:\n",
        "    if re.findall(\"\\A\\d+[/]\", line):\n",
        "        msgs.append(line)\n",
        "        pos += 1\n",
        "    else:\n",
        "        take = msgs[pos-1] + \". \" + line\n",
        "        msgs.append(take)\n",
        "        msgs.pop(pos-1)\n",
        "len(msgs) "
      ],
      "execution_count": null,
      "outputs": []
    },
    {
      "cell_type": "code",
      "metadata": {
        "id": "buMHUxMY7BZy",
        "colab_type": "code",
        "colab": {}
      },
      "source": [
        "msgs = msgs[2:]\n",
        "msgs[0:10]"
      ],
      "execution_count": null,
      "outputs": []
    },
    {
      "cell_type": "code",
      "metadata": {
        "id": "mpdOtd2o7Flm",
        "colab_type": "code",
        "colab": {}
      },
      "source": [
        "time = [msgs[i].split(',')[1].split('-')[0] for i in range(len(msgs))]\n",
        "time = [s.strip(' ') for s in time] # Remove spacing\n",
        "print(\"length of time is:\")\n",
        "print(len(time))\n",
        "print(time[0])"
      ],
      "execution_count": null,
      "outputs": []
    },
    {
      "cell_type": "code",
      "metadata": {
        "id": "eQIfGOxl7gWV",
        "colab_type": "code",
        "colab": {}
      },
      "source": [
        "date = [msgs[i].split(',')[0] for i in range(len(msgs))]\n",
        "print(len(date))\n",
        "print(date[0])"
      ],
      "execution_count": null,
      "outputs": []
    },
    {
      "cell_type": "code",
      "metadata": {
        "id": "_mhVNxOg9iM4",
        "colab_type": "code",
        "colab": {}
      },
      "source": [
        "name = []\n",
        "for i in range(len(msgs)):\n",
        "  try:\n",
        "    name.append(msgs[i].split('-')[1].split(':')[0].strip())\n",
        "  except IndexError:\n",
        "    name.append('Missing Name')\n",
        "print(len(name))\n",
        "print(name[0]) "
      ],
      "execution_count": null,
      "outputs": []
    },
    {
      "cell_type": "code",
      "metadata": {
        "id": "GxsL6EEd-MSn",
        "colab_type": "code",
        "colab": {}
      },
      "source": [
        "content = []\n",
        "for i in range(len(msgs)):\n",
        "  try:\n",
        "    content.append(msgs[i].split(':')[2])\n",
        "  except IndexError:\n",
        "    content.append('Missing Text')\n",
        "print(len(content))\n",
        "print(content[0])"
      ],
      "execution_count": null,
      "outputs": []
    },
    {
      "cell_type": "code",
      "metadata": {
        "id": "1h2vdTHX-QDp",
        "colab_type": "code",
        "colab": {}
      },
      "source": [
        "df = pd.DataFrame(list(zip(date, time, name, content)), columns = ['Date', 'Time', 'Name', 'Content'])\n",
        "df.head()"
      ],
      "execution_count": null,
      "outputs": []
    },
    {
      "cell_type": "code",
      "metadata": {
        "id": "Idtg5wQGCVO4",
        "colab_type": "code",
        "colab": {}
      },
      "source": [
        "df = df[(df[\"Content\"]!='Missing Text') & (df['Name']!='Missing Name')]\n",
        "df.reset_index(inplace=True, drop=True)\n",
        "df.head()"
      ],
      "execution_count": null,
      "outputs": []
    },
    {
      "cell_type": "code",
      "metadata": {
        "id": "LIDkg-mdCiTy",
        "colab_type": "code",
        "colab": {}
      },
      "source": [
        "df['DateTime'] = pd.to_datetime(df['Date'] + ' ' + df['Time'])\n",
        "df['DateTime']"
      ],
      "execution_count": null,
      "outputs": []
    },
    {
      "cell_type": "code",
      "metadata": {
        "id": "fjT7IKZXE4NI",
        "colab_type": "code",
        "colab": {}
      },
      "source": [
        "df['weekday'] = df['DateTime'].apply(lambda x: x.day_name())"
      ],
      "execution_count": null,
      "outputs": []
    },
    {
      "cell_type": "code",
      "metadata": {
        "id": "fyYCP--vE754",
        "colab_type": "code",
        "colab": {}
      },
      "source": [
        "df['Letter_Count'] = df['Content'].apply(lambda s : len(s))\n",
        "df['Word_Count'] = df['Content'].apply(lambda s : len(s.split(' ')))"
      ],
      "execution_count": null,
      "outputs": []
    },
    {
      "cell_type": "code",
      "metadata": {
        "id": "Vv831T2IE_dK",
        "colab_type": "code",
        "colab": {}
      },
      "source": [
        "df['Hour'] = df['Time'].apply(lambda x : x.split(':')[0]) \n",
        "# The first token of a value in the Time Column contains the hour (Eg., \"12\" in \"12:15\")"
      ],
      "execution_count": null,
      "outputs": []
    },
    {
      "cell_type": "code",
      "metadata": {
        "id": "llRqVWN3FCiO",
        "colab_type": "code",
        "colab": {}
      },
      "source": [
        "#print first five rows of our dataframe\n",
        "from datetime import datetime\n",
        "df['Date'] = df['DateTime'].dt.date\n",
        "df['Date'] = pd.to_datetime(df.Date)\n",
        "df.info()"
      ],
      "execution_count": null,
      "outputs": []
    },
    {
      "cell_type": "code",
      "metadata": {
        "id": "9fHNIkTCFFj6",
        "colab_type": "code",
        "colab": {}
      },
      "source": [
        "df_date = df.groupby(['Date','Name'])['Letter_Count'].sum().reset_index()\n",
        "df_date[:10]"
      ],
      "execution_count": null,
      "outputs": []
    },
    {
      "cell_type": "code",
      "metadata": {
        "id": "eIJrnIstITnz",
        "colab_type": "code",
        "colab": {}
      },
      "source": [
        "df_date.info()"
      ],
      "execution_count": null,
      "outputs": []
    },
    {
      "cell_type": "code",
      "metadata": {
        "id": "S7DKKdfIKyMX",
        "colab_type": "code",
        "colab": {}
      },
      "source": [
        "#freq = df.groupby(['Date','Name'])['Name'].count()\n",
        "df['Frequency']=df.groupby(['Date','Name']).Name.transform('count')"
      ],
      "execution_count": null,
      "outputs": []
    },
    {
      "cell_type": "code",
      "metadata": {
        "id": "jgjOZuKiOweB",
        "colab_type": "code",
        "colab": {}
      },
      "source": [
        "df_new = df[['Date','Name','Frequency']].drop_duplicates()"
      ],
      "execution_count": null,
      "outputs": []
    },
    {
      "cell_type": "code",
      "metadata": {
        "id": "Bax5AzDh-G6A",
        "colab_type": "code",
        "colab": {}
      },
      "source": [
        "dff = df_date.loc[df['Date']=='2019-02-04']\n",
        "dff"
      ],
      "execution_count": null,
      "outputs": []
    },
    {
      "cell_type": "code",
      "metadata": {
        "id": "OtI3_VHayoQ6",
        "colab_type": "code",
        "colab": {}
      },
      "source": [
        "dff_02_04_2019_top = dff.Name.value_counts(ascending=False).reset_index()\n",
        "dff_02_04_2019_top.columns=['Name','Frequency']\n",
        "dff_02_04_2019_top"
      ],
      "execution_count": null,
      "outputs": []
    },
    {
      "cell_type": "code",
      "metadata": {
        "id": "UaYasXSbxyvr",
        "colab_type": "code",
        "colab": {}
      },
      "source": [
        "import pandas as pd\n",
        "import matplotlib.pyplot as plt\n",
        "import matplotlib.ticker as ticker\n",
        "import matplotlib.animation as animation\n",
        "from IPython.display import HTML"
      ],
      "execution_count": null,
      "outputs": []
    },
    {
      "cell_type": "code",
      "metadata": {
        "id": "CtgE3YP7IIg5",
        "colab_type": "code",
        "colab": {}
      },
      "source": [
        "fig, ax = plt.subplots(figsize=(15, 8))\n",
        "ax.barh(dff_02_04_2019_top['Name'], dff_02_04_2019_top['Frequency'])"
      ],
      "execution_count": null,
      "outputs": []
    },
    {
      "cell_type": "code",
      "metadata": {
        "id": "EVCFwOyuCjYX",
        "colab_type": "code",
        "colab": {}
      },
      "source": [
        "colors = ['#adb0ff', '#ffb3ff', '#90d595', '#e48381','#aafbff', '#f7bb5f', '#eafb50']\n",
        "name = list(dff_02_04_2019_top.Name.unique())\n",
        "name"
      ],
      "execution_count": null,
      "outputs": []
    },
    {
      "cell_type": "code",
      "metadata": {
        "id": "5mvhP2QSxiQ7",
        "colab_type": "code",
        "colab": {}
      },
      "source": [
        "fig, ax = plt.subplots(figsize=(12, 6))\n",
        "dff = dff_02_04_2019_top[::-1]   # flip values from top to bottom\n",
        "# pass colors values to `color=`\n",
        "#dff_02_04_2019_top.plot.barh(color=colors)\n",
        "ax.barh(dff['Name'], dff['Frequency'], color=[colors[i] for i in range(7)])\n",
        "# iterate over the values to plot labels and values (Tokyo, Asia, 38194.2)\n",
        "for i, (value,name) in enumerate(zip(dff_02_04_2019_top['Frequency'],dff_02_04_2019_top['Name'])):\n",
        "    ax.text(value, i,     name,            ha='right')  # Tokyo: name\n",
        "    #ax.text(value, i-.25, group_lk[name],  ha='right')  # Asia: group name\n",
        "    ax.text(value, i,     value,           ha='left')   # 38194.2: value\n",
        "# Add year right middle portion of canvas\n",
        "ax.text(1, 0.4, '2019-02-04', transform=ax.transAxes, size=24, ha='right')"
      ],
      "execution_count": null,
      "outputs": []
    },
    {
      "cell_type": "code",
      "metadata": {
        "id": "5-6O2oP7ExG_",
        "colab_type": "code",
        "colab": {}
      },
      "source": [
        "fig, ax = plt.subplots(figsize=(15, 8))\n",
        "def draw_barchart(date):\n",
        "    \n",
        "    dff = df_new[df_new['Date'].eq(date)].sort_values(by='Frequency', ascending=True).tail(10)\n",
        "    \n",
        "    ax.clear()\n",
        "    ax.barh(dff['Name'], dff['Frequency'], color=[colors[i] for i in range(7)])\n",
        "    #dx = dff['value'].max() / 200\n",
        "    for i, (value, name) in enumerate(zip(dff['Frequency'], dff['Name'])):\n",
        "        ax.text(value, i,name, ha='right', va='bottom')\n",
        "        #ax.text(value-dx, i-.25, group_lk[name], size=10, color='#444444', ha='right', va='baseline')\n",
        "        ax.text(value, i,value,ha='left', va='center')\n",
        "    # ... polished styles\n",
        "    ax.text(1, 0.4, str(date).split('T')[0], transform=ax.transAxes, color='#777777', size=30, ha='right', weight=800)\n",
        "    ax.text(0, 1.06, 'Frequency of Messages', transform=ax.transAxes, size=12, color='#777777')\n",
        "    ax.xaxis.set_major_formatter(ticker.StrMethodFormatter('{x:,.0f}'))\n",
        "    ax.xaxis.set_ticks_position('top')\n",
        "    ax.tick_params(axis='x', colors='#777777', labelsize=12)\n",
        "    ax.set_yticks([])\n",
        "    ax.margins(0, 0.01)\n",
        "    ax.grid(which='major', axis='x', linestyle='-')\n",
        "    ax.set_axisbelow(True)\n",
        "    ax.text(0, 1.12, 'Top 10 Users that sent more messages',transform=ax.transAxes, size=24, weight=600, ha='left')\n",
        "    plt.box(False)\n",
        "draw_barchart('2019-02-04')"
      ],
      "execution_count": null,
      "outputs": []
    },
    {
      "cell_type": "code",
      "metadata": {
        "id": "ZlIbf0oeTf9W",
        "colab_type": "code",
        "colab": {}
      },
      "source": [
        "#dates_display = list(df_new['Date'].dt.date.unique())\n",
        "dates = list(df_new['Date'].unique())\n",
        "dates[:5]"
      ],
      "execution_count": null,
      "outputs": []
    },
    {
      "cell_type": "code",
      "metadata": {
        "id": "hHPxLkOCRgmT",
        "colab_type": "code",
        "colab": {}
      },
      "source": [
        "import matplotlib.animation as animation\n",
        "from IPython.display import HTML\n",
        "fig, ax = plt.subplots(figsize=(15, 8))\n",
        "animator = animation.FuncAnimation(fig, draw_barchart, frames=dates)\n",
        "#HTML(animator.to_jshtml())\n",
        "animator.save('video.mp4') "
      ],
      "execution_count": null,
      "outputs": []
    },
    {
      "cell_type": "code",
      "metadata": {
        "id": "RtTVvtYBTuZG",
        "colab_type": "code",
        "colab": {}
      },
      "source": [
        ""
      ],
      "execution_count": null,
      "outputs": []
    }
  ]
}
